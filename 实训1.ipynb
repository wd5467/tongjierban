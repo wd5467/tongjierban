{
 "cells": [
  {
   "cell_type": "code",
   "execution_count": 2,
   "metadata": {},
   "outputs": [],
   "source": [
    "from lxml import etree"
   ]
  },
  {
   "cell_type": "code",
   "execution_count": 9,
   "metadata": {},
   "outputs": [],
   "source": [
    "import requests\n",
    "res = requests.get('http://www.17k.com/list/2822387.html')\n",
    "tree2 = etree.HTML(res.text)\n",
    "a_list = tree2.xpath('///html/body/div[7]/dl[1]/dd/a')\n",
    "for i in a_list:\n",
    "    href=i.xpath('./@href')[0]\n",
    "    print(href)"
   ]
  },
  {
   "cell_type": "code",
   "execution_count": 12,
   "metadata": {},
   "outputs": [
    {
     "data": {
      "text/plain": [
       "'hahahajoker'"
      ]
     },
     "execution_count": 12,
     "metadata": {},
     "output_type": "execute_result"
    }
   ],
   "source": [
    "a = 'hahaha'\n",
    "b = 'joker'\n",
    "a + b\n"
   ]
  },
  {
   "cell_type": "code",
   "execution_count": 6,
   "metadata": {},
   "outputs": [],
   "source": [
    "import requests\n",
    "file='C:\\\\Users\\\\MacBook\\\\Desktop\\\\shixun1.txt'\n",
    "res = requests.get('http://www.17k.com/list/2822387.html')\n",
    "tree = etree.HTML(res.text)\n",
    "a_list = tree.xpath('//html/body/div[@class=\"Main List\"]/dl[@class=\"Volume\"]/dd/a')\n",
    "for i in a_list:\n",
    "    a = 'http://www.17k.com/'\n",
    "    href = i.xpath('./@href')[0]\n",
    "    wd = a+href\n",
    "    b = requests.get(wd).text\n",
    "    import re\n",
    "    regex = re.compile('<h1>(.*?)！<br /><br />',re.S)\n",
    "    zcy = re.findall(regex,b)\n",
    "    c = str(zcy)\n",
    "    with open(file,'a',encoding='utf-8')as f:\n",
    "        f.write(c)"
   ]
  },
  {
   "cell_type": "code",
   "execution_count": null,
   "metadata": {},
   "outputs": [],
   "source": []
  },
  {
   "cell_type": "code",
   "execution_count": null,
   "metadata": {},
   "outputs": [],
   "source": []
  }
 ],
 "metadata": {
  "kernelspec": {
   "display_name": "Python 3",
   "language": "python",
   "name": "python3"
  },
  "language_info": {
   "codemirror_mode": {
    "name": "ipython",
    "version": 3
   },
   "file_extension": ".py",
   "mimetype": "text/x-python",
   "name": "python",
   "nbconvert_exporter": "python",
   "pygments_lexer": "ipython3",
   "version": "3.6.4"
  }
 },
 "nbformat": 4,
 "nbformat_minor": 2
}
